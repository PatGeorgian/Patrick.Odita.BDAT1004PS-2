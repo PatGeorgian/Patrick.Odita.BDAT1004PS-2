{
  "nbformat": 4,
  "nbformat_minor": 0,
  "metadata": {
    "colab": {
      "provenance": [],
      "authorship_tag": "ABX9TyMszyQwO1okhD71sm3OmMKx",
      "include_colab_link": true
    },
    "kernelspec": {
      "name": "python3",
      "display_name": "Python 3"
    },
    "language_info": {
      "name": "python"
    }
  },
  "cells": [
    {
      "cell_type": "markdown",
      "metadata": {
        "id": "view-in-github",
        "colab_type": "text"
      },
      "source": [
        "<a href=\"https://colab.research.google.com/github/PatGeorgian/Patrick.Odita.BDAT1004PS-2/blob/main/Cancerbreast.ipynb\" target=\"_parent\"><img src=\"https://colab.research.google.com/assets/colab-badge.svg\" alt=\"Open In Colab\"/></a>"
      ]
    },
    {
      "cell_type": "markdown",
      "source": [
        "Example:\n",
        "Suppose you have a model that predicts whether a customer will churn. The ROC curve shows how well the model can distinguish between customers who will churn and those who will not.\n",
        "Exercise:\n",
        "- Load a binary classification dataset.\n",
        "- Train a model and plot the ROC curve.\n",
        "- Calculate the AUC.\n"
      ],
      "metadata": {
        "id": "d4HMo1qvEZeq"
      }
    },
    {
      "cell_type": "code",
      "execution_count": 1,
      "metadata": {
        "id": "t-cY5ef1EQ8E"
      },
      "outputs": [],
      "source": [
        "from sklearn.datasets import load_breast_cancer\n",
        "from sklearn.model_selection import train_test_split\n",
        "from sklearn.linear_model import LogisticRegression\n",
        "from sklearn.metrics import roc_curve, roc_auc_score\n",
        "import matplotlib.pyplot as plt\n"
      ]
    },
    {
      "cell_type": "code",
      "source": [
        "# Load the Breast Cancer dataset\n",
        "data = load_breast_cancer()\n",
        "X = data.data\n",
        "y = data.target\n"
      ],
      "metadata": {
        "id": "4sFBLKuvEc0O"
      },
      "execution_count": 2,
      "outputs": []
    },
    {
      "cell_type": "code",
      "source": [
        "# Split the data into training and testing sets\n",
        "X_train, X_test, y_train, y_test = train_test_split(X, y, test_size=0.3, random_state=42)"
      ],
      "metadata": {
        "id": "VRC8XKZkEcwA"
      },
      "execution_count": 3,
      "outputs": []
    },
    {
      "cell_type": "code",
      "source": [
        "# Train a Logistic Regression model\n",
        "model = LogisticRegression(max_iter=10000)\n",
        "model.fit(X_train, y_train)\n",
        "y_pred_proba = model.predict_proba(X_test)[:, 1]"
      ],
      "metadata": {
        "id": "YCqYH5prEcsl"
      },
      "execution_count": 4,
      "outputs": []
    },
    {
      "cell_type": "code",
      "source": [
        "# Compute ROC curve and AUC\n",
        "fpr, tpr, thresholds = roc_curve(y_test, y_pred_proba)\n",
        "auc = roc_auc_score(y_test, y_pred_proba)"
      ],
      "metadata": {
        "id": "jvhtu5oaEcof"
      },
      "execution_count": 5,
      "outputs": []
    },
    {
      "cell_type": "code",
      "source": [
        "# Plot the ROC curve\n",
        "plt.plot(fpr, tpr, label=f\"AUC = {auc:.2f}\")\n",
        "plt.xlabel(\"False Positive Rate\")\n",
        "plt.ylabel(\"True Positive Rate\")\n",
        "plt.title(\"ROC Curve\")\n",
        "plt.legend()\n",
        "plt.show()"
      ],
      "metadata": {
        "colab": {
          "base_uri": "https://localhost:8080/",
          "height": 472
        },
        "id": "Gp7lnInBEcko",
        "outputId": "a091bd58-2150-4a7a-ba8b-4e019acd667f"
      },
      "execution_count": 6,
      "outputs": [
        {
          "output_type": "display_data",
          "data": {
            "text/plain": [
              "<Figure size 640x480 with 1 Axes>"
            ],
            "image/png": "[encoded data removed]"
          },
          "metadata": {}
        }
      ]
    },
    {
      "cell_type": "markdown",
      "source": [
        "4. Regression Metrics\n",
        "Key Metrics:\n",
        "- Mean Squared Error (MSE): The average of the squared differences between actual and predicted values.\n",
        "- Root Mean Squared Error (RMSE): The square root of MSE.\n",
        "- Mean Absolute Error (MAE): The average of the absolute differences between actual and predicted values.\n",
        "- R-squared (R²): The proportion of variance in the dependent variable explained by the independent variables.\n"
      ],
      "metadata": {
        "id": "vO9CUwf2FAR7"
      }
    }
  ]
}