{
 "cells": [
  {
   "cell_type": "markdown",
   "id": "d970f346-1d4e-432b-a624-18792f369f19",
   "metadata": {},
   "source": [
    "<center><img src=\"GeorgianCollegeLogo.svg\"></center>\n",
    "<h1><center>BDAT 1004: Data Analytics Programming</center></h1>\n",
    "<h3><center>Problem Set 2: Questions</center></h3>\n",
    "<h3><center>Patrick Odita - 200610831</center></h3>\n",
    "<h2><b>References</b></<ol>>\n",
    "    <li><b>Python</b>:</li>\n",
    "    <ol>\n",
    "        <li>https://www.w3schools.com/python/default.asp</li>\n",
    "        <li>https://www.python.org/doc/</li>\n",
    "    </ol>\n",
    "</ol>"
   ]
  },
  {
   "cell_type": "markdown",
   "id": "cbf43ddc-ff70-4e52-aac0-d30f2ba24954",
   "metadata": {},
   "source": [
    "Question 1\n",
    "Consider the following Python module:\n"
   ]
  },
  {
   "cell_type": "code",
   "execution_count": null,
   "id": "3f9070b8-6933-4e79-ac95-380019457f6c",
   "metadata": {},
   "outputs": [],
   "source": [
    "a = 0\n",
    "\n",
    "def b():\n",
    "    global a\n",
    "    a = c(a)\n",
    "\n",
    "def c(a):\n",
    "    return a + 2\n"
   ]
  },
  {
   "cell_type": "code",
   "execution_count": null,
   "id": "58c959fb-6a95-43c4-a272-4492e091451f",
   "metadata": {},
   "outputs": [],
   "source": [
    ">>> b()\n",
    ">>> b()\n",
    ">>> b()\n",
    ">>> a"
   ]
  },
  {
   "cell_type": "markdown",
   "id": "661578b3-cd42-41d2-aa39-005ab9bde24b",
   "metadata": {},
   "source": [
    "What value is displayed when the last expression (a) is evaluated? \n",
    "Explain your Banswer by indicating what happens in every executed statement.\n"
   ]
  },
  {
   "cell_type": "markdown",
   "id": "eb713d70-c93b-4efc-a2d8-b3bd19d3c61b",
   "metadata": {},
   "source": [
    "Starting from this Point: We have a number called a, and it starts at 0.\n",
    "First time we use b():\n",
    "\n",
    "The function b() changes a by asking another function, c(), to do some math.\n",
    "At first, a is 0, so c() adds 2 to it (0 + 2 = 2).\n",
    "Now, a becomes 2.\n",
    "Second time we use b():\n",
    "\n",
    "Now, a is 2.\n",
    "Again, b() asks c() to add 2. So, c() does 2 + 2 = 4.\n",
    "Now, a becomes 4.\n",
    "Third time we use b():\n",
    "\n",
    "This time, a is 4.\n",
    "Once again, b() asks c() to add 2. So, c() does 4 + 2 = 6.\n",
    "Now, a becomes 6.\n",
    "Final Answer:\n",
    "After running the function b() three times, the value of a becomes 6."
   ]
  },
  {
   "cell_type": "markdown",
   "id": "522c0c34-2763-4785-915a-25865fe9e8ff",
   "metadata": {},
   "source": [
    "Question 2\n",
    "Function fileLength(), given to you, takes the name of a file as input and returns \n",
    "the length of the file"
   ]
  },
  {
   "cell_type": "code",
   "execution_count": null,
   "id": "05a40b51-480b-4ff7-8b6c-7ee2a757096f",
   "metadata": {},
   "outputs": [],
   "source": [
    "def fileLength(filename):\n",
    "    try:\n",
    "        with open(filename, 'r') as infile:\n",
    "            content = infile.read()\n",
    "            return len(content)\n",
    "    except FileNotFoundError:\n",
    "        print(f\"File {filename} not found.\")\n"
   ]
  },
  {
   "cell_type": "markdown",
   "id": "d1482be4-a02a-418d-8f4d-1991e751586b",
   "metadata": {},
   "source": [
    "Question3 Write a class named Marsupial that can be used as shown below:"
   ]
  },
  {
   "cell_type": "code",
   "execution_count": null,
   "id": "d0f4b0c7-a219-4072-bdd7-6397149a48b4",
   "metadata": {},
   "outputs": [],
   "source": [
    "class Marsupial:\n",
    "    def __init__(self):\n",
    "        self.pouch = []\n",
    "\n",
    "    def put_in_pouch(self, item):\n",
    "        self.pouch.append(item)\n",
    "\n",
    "    def pouch_contents(self):\n",
    "        return self.pouch\n",
    "        \n",
    "# Subclass Kangaroo\n",
    "\n",
    "class Kangaroo(Marsupial):\n",
    "    def __init__(self, x, y):\n",
    "        super().__init__()\n",
    "        self.x = x\n",
    "        self.y = y\n",
    "\n",
    "    def jump(self, dx, dy):\n",
    "        self.x += dx\n",
    "        self.y += dy\n",
    "\n",
    "    def __str__(self):\n",
    "        return f'I am a Kangaroo located at coordinates ({self.x},{self.y})'\n"
   ]
  },
  {
   "cell_type": "markdown",
   "id": "ee25703e-7166-4a4a-b86f-eeb49cf538d1",
   "metadata": {},
   "source": [
    "Question 4\n",
    "Write function collatz() that takes a positive integer x as input and prints the \n",
    "Collatz sequence starting at x. A Collatz sequence is obtained by repeatedly applying \n",
    "this rule to the previous number x in the sequence:"
   ]
  },
  {
   "cell_type": "code",
   "execution_count": null,
   "id": "26fcddb1-584f-4e52-a06c-7160abb892c9",
   "metadata": {},
   "outputs": [],
   "source": [
    "def collatz(x):\n",
    "    print(x)\n",
    "    if x == 1:\n",
    "        return\n",
    "    elif x % 2 == 0:\n",
    "        collatz(x // 2)\n",
    "    else:\n",
    "        collatz(3 * x + 1)\n"
   ]
  },
  {
   "cell_type": "markdown",
   "id": "71989941-962b-40d3-8f1d-4c179897d79d",
   "metadata": {},
   "source": [
    "Question 5\n",
    "Write a recursive method binary() that takes a non-negative \n",
    "integer n and prints the binary representation of integer n.\n"
   ]
  },
  {
   "cell_type": "code",
   "execution_count": null,
   "id": "829e8717-ada2-4b7f-a108-895412e71ec6",
   "metadata": {},
   "outputs": [],
   "source": [
    "def binary(n):\n",
    "    if n < 2:\n",
    "        print(n, end='')\n",
    "    else:\n",
    "        binary(n // 2)\n",
    "        print(n % 2, end='')\n"
   ]
  },
  {
   "cell_type": "markdown",
   "id": "a5a32de3-971d-4059-843a-ab84e12c5266",
   "metadata": {},
   "source": [
    "Question 6"
   ]
  },
  {
   "cell_type": "code",
   "execution_count": null,
   "id": "81398a0c-accb-45f9-a082-97a8e64eb373",
   "metadata": {},
   "outputs": [],
   "source": [
    "from html.parser import HTMLParser\n",
    "\n",
    "class HeadingParser(HTMLParser):\n",
    "    def __init__(self):\n",
    "        super().__init__()\n",
    "        self.current_level = 0\n",
    "\n",
    "    def handle_starttag(self, tag, attrs):\n",
    "        if tag.startswith('h') and len(tag) == 2 and tag[1].isdigit():\n",
    "            self.current_level = int(tag[1])\n",
    "\n",
    "    def handle_data(self, data):\n",
    "        if self.current_level > 0:\n",
    "            print(' ' * (self.current_level - 1) + data)\n",
    "            self.current_level = 0\n"
   ]
  },
  {
   "cell_type": "markdown",
   "id": "e871899c-26ec-4bbb-a4d8-879ec68a90b4",
   "metadata": {},
   "source": [
    "Question 7"
   ]
  },
  {
   "cell_type": "code",
   "execution_count": null,
   "id": "1376cb1b-cbd2-46e1-b604-e25e175ab585",
   "metadata": {},
   "outputs": [],
   "source": [
    "import urllib.request\n",
    "from html.parser import HTMLParser\n",
    "\n",
    "def webdir(url, depth, indent):\n",
    "    if depth < 0:\n",
    "        return\n",
    "    print(' ' * indent + url)\n",
    "    try:\n",
    "        response = urllib.request.urlopen(url)\n",
    "        content = response.read().decode()\n",
    "    except:\n",
    "        return\n",
    "    parser = HeadingParser()\n",
    "    parser.feed(content)\n",
    "    \n"
   ]
  },
  {
   "cell_type": "markdown",
   "id": "f5d38a01-b06e-408f-8cd1-c2fb0fe2360b",
   "metadata": {},
   "source": [
    "Question 8 SQL Queries"
   ]
  },
  {
   "cell_type": "markdown",
   "id": "b30dd175-b7b6-465e-9f63-5f914afaa172",
   "metadata": {},
   "source": [
    "a) All the temperature data."
   ]
  },
  {
   "cell_type": "code",
   "execution_count": null,
   "id": "2a6a9d5c-42f7-454f-81b9-3ef3ac712a9f",
   "metadata": {},
   "outputs": [],
   "source": [
    "SELECT Temperature FROM weather;"
   ]
  },
  {
   "cell_type": "markdown",
   "id": "b4476785-9963-4907-ae26-175f160bb85b",
   "metadata": {},
   "source": [
    "b) All the cities, but without repetition."
   ]
  },
  {
   "cell_type": "code",
   "execution_count": null,
   "id": "a6c20955-fa20-43b4-a8bd-126f40710c88",
   "metadata": {},
   "outputs": [],
   "source": [
    "SELECT DISTINCT City FROM weather;"
   ]
  },
  {
   "cell_type": "markdown",
   "id": "efab351a-9370-4e4e-b1ac-dda70dcde94c",
   "metadata": {},
   "source": [
    "c) All the records for India."
   ]
  },
  {
   "cell_type": "code",
   "execution_count": null,
   "id": "22c7a247-647b-4514-9653-e63ff4418d92",
   "metadata": {},
   "outputs": [],
   "source": [
    "SELECT * FROM weather WHERE Country = 'India';\n"
   ]
  },
  {
   "cell_type": "markdown",
   "id": "7cf7995e-e305-4027-b500-3413aae7b800",
   "metadata": {},
   "source": [
    "d) All the Fall records."
   ]
  },
  {
   "cell_type": "code",
   "execution_count": null,
   "id": "d1b90416-d75b-4bbd-b967-cd9fdefcd51b",
   "metadata": {},
   "outputs": [],
   "source": [
    "SELECT * FROM weather WHERE Season = 'Fall';\n"
   ]
  },
  {
   "cell_type": "markdown",
   "id": "f264faf8-522c-4dc5-9438-3f6c33dd9fe8",
   "metadata": {},
   "source": [
    "e) The city, country, and season for which the average rainfall is between 200 \n",
    "and 400 millimeters."
   ]
  },
  {
   "cell_type": "code",
   "execution_count": null,
   "id": "4192fdae-2f9b-4436-9f2d-2e99c8fb61ed",
   "metadata": {},
   "outputs": [],
   "source": [
    "SELECT city, country, season\n",
    "FROM weather_data\n",
    "WHERE average_rainfall BETWEEN 200 AND 400;"
   ]
  },
  {
   "cell_type": "markdown",
   "id": "665d93f7-4d51-48fb-bb9f-6e39fe12ca65",
   "metadata": {},
   "source": [
    "f) The city and country for which the average Fall temperature is above 20 \n",
    "degrees, in increasing temperature order"
   ]
  },
  {
   "cell_type": "code",
   "execution_count": null,
   "id": "477065fc-c81d-45bf-a5cf-35f944aa80ee",
   "metadata": {},
   "outputs": [],
   "source": [
    "SELECT City, Country, Temperature\n",
    "FROM weather\n",
    "WHERE Season = 'Fall' AND Temperature > 20\n",
    "ORDER BY Temperature ASC;"
   ]
  },
  {
   "cell_type": "markdown",
   "id": "89260757-c848-41f2-a489-26d56e4ccecb",
   "metadata": {},
   "source": [
    "g) The total annual rainfall for Cairo"
   ]
  },
  {
   "cell_type": "code",
   "execution_count": null,
   "id": "3f28cdc3-ff31-4de0-86b4-8caaf1481007",
   "metadata": {},
   "outputs": [],
   "source": [
    "SELECT SUM(Rainfall) AS Total_Annual_Rainfall\n",
    "FROM weather\n",
    "WHERE City = 'Cairo';"
   ]
  },
  {
   "cell_type": "markdown",
   "id": "14d88994-682b-48e1-9b03-a08866ef578f",
   "metadata": {},
   "source": [
    "h) The total rainfall for each season"
   ]
  },
  {
   "cell_type": "code",
   "execution_count": null,
   "id": "4eb58382-5582-44c5-9424-5d0bb1a86cca",
   "metadata": {},
   "outputs": [],
   "source": [
    "SELECT Season, SUM(Rainfall) AS Total_Rainfall\n",
    "FROM weather\n",
    "GROUP BY Season;"
   ]
  },
  {
   "cell_type": "markdown",
   "id": "27928284-7172-40c8-9453-a17d503c3e85",
   "metadata": {},
   "source": [
    "a) Convert all words to uppercase"
   ]
  },
  {
   "cell_type": "code",
   "execution_count": null,
   "id": "73c8ad09-c8db-4aed-be73-813b562e4a0a",
   "metadata": {},
   "outputs": [],
   "source": [
    "# Given list of words\n",
    "words = ['The', 'quick', 'brown', 'fox', 'jumps', 'over', 'the', 'lazy', 'dog']"
   ]
  },
  {
   "cell_type": "markdown",
   "id": "7d3bf6c8-ab2f-4cec-b1af-294549fb356a",
   "metadata": {},
   "source": [
    "a) Convert all words to uppercase"
   ]
  },
  {
   "cell_type": "code",
   "execution_count": null,
   "id": "06ec7d41-1b5c-4165-a50b-4014a5d71b82",
   "metadata": {},
   "outputs": [],
   "source": [
    "uppercase_words = [word.upper() for word in words]\n",
    "print(uppercase_words)"
   ]
  },
  {
   "cell_type": "markdown",
   "id": "0fa3b198-9806-44a8-9513-93d6f54d26fc",
   "metadata": {},
   "source": [
    "b) Convert all words to lowercase\n"
   ]
  },
  {
   "cell_type": "code",
   "execution_count": null,
   "id": "56a25287-ae3e-46aa-9393-5713a096d263",
   "metadata": {},
   "outputs": [],
   "source": [
    "lowercase_words = [word.lower() for word in words]\n",
    "print(lowercase_words)"
   ]
  },
  {
   "cell_type": "markdown",
   "id": "da0887db-5910-42da-9b44-e5eb5ba15da8",
   "metadata": {},
   "source": [
    "c) List of lengths of words in the list"
   ]
  },
  {
   "cell_type": "code",
   "execution_count": null,
   "id": "0f5fea4d-d95f-4dfa-b136-110604368fcc",
   "metadata": {},
   "outputs": [],
   "source": [
    "word_lengths = [len(word) for word in words]\n",
    "print(word_lengths)"
   ]
  },
  {
   "cell_type": "markdown",
   "id": "515f6a68-d653-4567-9264-2b561ed3d43c",
   "metadata": {},
   "source": [
    "d) List of lists where each word has uppercase, lowercase, and its length"
   ]
  },
  {
   "cell_type": "code",
   "execution_count": null,
   "id": "36863ce1-e7f4-4888-859c-de59637663ce",
   "metadata": {},
   "outputs": [],
   "source": [
    "word_info = [[word.upper(), word.lower(), len(word)] for word in words]\n",
    "print(word_info)"
   ]
  },
  {
   "cell_type": "markdown",
   "id": "a92b2c56-1248-4a07-ba32-64d861c4978e",
   "metadata": {},
   "source": [
    "e) List of words with 4 or more characters"
   ]
  },
  {
   "cell_type": "code",
   "execution_count": null,
   "id": "ced8c634-5d44-4c3d-bf43-5611caf87f8d",
   "metadata": {},
   "outputs": [],
   "source": [
    "long_words = [word for word in words if len(word) >= 4]\n",
    "print(long_words)"
   ]
  }
 ],
 "metadata": {
  "kernelspec": {
   "display_name": "Python 3 (ipykernel)",
   "language": "python",
   "name": "python3"
  },
  "language_info": {
   "codemirror_mode": {
    "name": "ipython",
    "version": 3
   },
   "file_extension": ".py",
   "mimetype": "text/x-python",
   "name": "python",
   "nbconvert_exporter": "python",
   "pygments_lexer": "ipython3",
   "version": "3.12.4"
  }
 },
 "nbformat": 4,
 "nbformat_minor": 5
}
