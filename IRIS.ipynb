{
  "nbformat": 4,
  "nbformat_minor": 0,
  "metadata": {
    "colab": {
      "provenance": [],
      "authorship_tag": "ABX9TyNHwfiT3LVnuL1KETyf9nic",
      "include_colab_link": true
    },
    "kernelspec": {
      "name": "python3",
      "display_name": "Python 3"
    },
    "language_info": {
      "name": "python"
    }
  },
  "cells": [
    {
      "cell_type": "markdown",
      "metadata": {
        "id": "view-in-github",
        "colab_type": "text"
      },
      "source": [
        "<a href=\"https://colab.research.google.com/github/PatGeorgian/Patrick.Odita.BDAT1004PS-2/blob/main/IRIS.ipynb\" target=\"_parent\"><img src=\"https://colab.research.google.com/assets/colab-badge.svg\" alt=\"Open In Colab\"/></a>"
      ]
    },
    {
      "cell_type": "markdown",
      "source": [
        "Example:\n",
        "Suppose you have a binary classification problem where you are predicting whether an email is spam or not. You train a logistic regression model and a random forest model. You evaluate both models using accuracy, precision, recall, and F1 score.\n",
        "\n",
        "Exercise:\n",
        "- Load the Iris dataset.\n",
        "- Train a logistic regression model and a decision tree model.\n",
        "- Evaluate both models using accuracy, precision, recall, and F1 score.\n"
      ],
      "metadata": {
        "id": "mgZxHLA-C5x3"
      }
    },
    {
      "cell_type": "code",
      "execution_count": 1,
      "metadata": {
        "id": "VwXzEk3xCS_T"
      },
      "outputs": [],
      "source": [
        "from sklearn.datasets import load_iris\n",
        "from sklearn.model_selection import train_test_split\n",
        "from sklearn.linear_model import LogisticRegression\n",
        "from sklearn.tree import DecisionTreeClassifier\n",
        "from sklearn.metrics import accuracy_score, precision_score, recall_score, f1_score\n",
        "# Load the Iris dataset\n",
        "iris = load_iris()\n",
        "X = iris.data\n",
        "y = iris.target\n"
      ]
    },
    {
      "cell_type": "code",
      "source": [
        "# Split the data into training and testing sets\n",
        "X_train, X_test, y_train, y_test = train_test_split(X, y, test_size=0.3, random_state=42)\n",
        "# Train a Logistic Regression model\n",
        "log_reg = LogisticRegression(max_iter=200)\n",
        "log_reg.fit(X_train, y_train)\n",
        "y_pred_log_reg = log_reg.predict(X_test)\n",
        "\n"
      ],
      "metadata": {
        "id": "tAwJpqtVCVLY"
      },
      "execution_count": 2,
      "outputs": []
    },
    {
      "cell_type": "code",
      "source": [
        "# Train a Decision Tree model\n",
        "tree = DecisionTreeClassifier()\n",
        "tree.fit(X_train, y_train)\n",
        "y_pred_tree = tree.predict(X_test)\n"
      ],
      "metadata": {
        "id": "KW-NTKPFCVi0"
      },
      "execution_count": 3,
      "outputs": []
    },
    {
      "cell_type": "code",
      "source": [
        "# Evaluate Logistic Regression\n",
        "print(\"Logistic Regression:\")\n",
        "print(\"Accuracy:\", accuracy_score(y_test, y_pred_log_reg))\n",
        "print(\"Precision:\", precision_score(y_test, y_pred_log_reg, average='weighted'))\n",
        "print(\"Recall:\", recall_score(y_test, y_pred_log_reg, average='weighted'))\n",
        "print(\"F1 Score:\", f1_score(y_test, y_pred_log_reg, average='weighted'))\n"
      ],
      "metadata": {
        "id": "bUhl2XRWCWCa",
        "colab": {
          "base_uri": "https://localhost:8080/"
        },
        "outputId": "97494f34-9991-4be4-bbc1-ecd3a07485af"
      },
      "execution_count": 4,
      "outputs": [
        {
          "output_type": "stream",
          "name": "stdout",
          "text": [
            "Logistic Regression:\n",
            "Accuracy: 1.0\n",
            "Precision: 1.0\n",
            "Recall: 1.0\n",
            "F1 Score: 1.0\n"
          ]
        }
      ]
    },
    {
      "cell_type": "code",
      "source": [
        "# Evaluate Decision Tree\n",
        "print(\"\\nDecision Tree:\")\n",
        "print(\"Accuracy:\", accuracy_score(y_test, y_pred_tree))\n",
        "print(\"Precision:\", precision_score(y_test, y_pred_tree, average='weighted'))\n",
        "print(\"Recall:\", recall_score(y_test, y_pred_tree, average='weighted'))\n",
        "print(\"F1 Score:\", f1_score(y_test, y_pred_tree, average='weighted'))\n"
      ],
      "metadata": {
        "id": "w1JqAR76CWSt",
        "colab": {
          "base_uri": "https://localhost:8080/"
        },
        "outputId": "3e85a95e-f0ae-4f15-93e4-0ece3d335a52"
      },
      "execution_count": 5,
      "outputs": [
        {
          "output_type": "stream",
          "name": "stdout",
          "text": [
            "\n",
            "Decision Tree:\n",
            "Accuracy: 1.0\n",
            "Precision: 1.0\n",
            "Recall: 1.0\n",
            "F1 Score: 1.0\n"
          ]
        }
      ]
    },
    {
      "cell_type": "code",
      "source": [],
      "metadata": {
        "id": "lVOKs5IkCWoY"
      },
      "execution_count": null,
      "outputs": []
    },
    {
      "cell_type": "code",
      "source": [],
      "metadata": {
        "id": "qJ0hsh_DCXUH"
      },
      "execution_count": null,
      "outputs": []
    },
    {
      "cell_type": "code",
      "source": [],
      "metadata": {
        "id": "ReLizy5XCoxL"
      },
      "execution_count": null,
      "outputs": []
    },
    {
      "cell_type": "code",
      "source": [],
      "metadata": {
        "id": "ttU7eZMkCofh"
      },
      "execution_count": null,
      "outputs": []
    },
    {
      "cell_type": "code",
      "source": [],
      "metadata": {
        "id": "XbJ5oMfeCobH"
      },
      "execution_count": null,
      "outputs": []
    }
  ]
}